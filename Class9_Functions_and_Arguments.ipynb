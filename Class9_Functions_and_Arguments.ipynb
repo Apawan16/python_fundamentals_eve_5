{
 "cells": [
  {
   "cell_type": "code",
   "execution_count": 1,
   "metadata": {},
   "outputs": [],
   "source": [
    "# Python functions\n",
    "#----------------------\n",
    "\n",
    "def greet_user():\n",
    "    \"\"\" Display a simple greeting message\"\"\" #Doc String\n",
    "    print(\"Hello !!!!\")"
   ]
  },
  {
   "cell_type": "code",
   "execution_count": 2,
   "metadata": {},
   "outputs": [
    {
     "name": "stdout",
     "output_type": "stream",
     "text": [
      "Hello !!!!\n"
     ]
    }
   ],
   "source": [
    "greet_user()"
   ]
  },
  {
   "cell_type": "code",
   "execution_count": 3,
   "metadata": {},
   "outputs": [
    {
     "name": "stdout",
     "output_type": "stream",
     "text": [
      "Hello , Pawan !! \n"
     ]
    }
   ],
   "source": [
    "def greet_user(user_nm):             #user_nm is arguments\n",
    "    \"\"\"Display a greeting message\"\"\"\n",
    "    print(f\"Hello , {user_nm.title()} !! \")\n",
    "    \n",
    "greet_user('Pawan')"
   ]
  },
  {
   "cell_type": "code",
   "execution_count": 4,
   "metadata": {},
   "outputs": [
    {
     "name": "stdout",
     "output_type": "stream",
     "text": [
      "Hello , Yoyo !! \n"
     ]
    }
   ],
   "source": [
    "greet_user('Yoyo')"
   ]
  },
  {
   "cell_type": "code",
   "execution_count": 9,
   "metadata": {},
   "outputs": [
    {
     "name": "stdout",
     "output_type": "stream",
     "text": [
      "cat\n",
      "bruno\n",
      "bruno\n",
      "cat\n",
      "-------------------\n",
      "dog\n",
      "Brownie\n",
      "dog\n",
      "brownie\n"
     ]
    }
   ],
   "source": [
    "# Types of arguments:\n",
    "#-------------------------\n",
    "\n",
    "#   1. Positional Argument\n",
    "#   2. Keyword Argument\n",
    "\n",
    "def describe_pet(animal_type, pet_nm):\n",
    "    \"\"\"Display info about the pet\"\"\"\n",
    "    print(animal_type)\n",
    "    print(pet_nm)\n",
    "\n",
    "describe_pet('cat','bruno') #Positional Argument\n",
    "describe_pet('bruno','cat')\n",
    "print('-------------------')\n",
    "describe_pet(animal_type = 'dog',pet_nm = 'Brownie') #keyword Argument\n",
    "describe_pet(pet_nm='brownie',animal_type='dog')\n",
    "\n",
    "\n",
    "    \n",
    "    "
   ]
  },
  {
   "cell_type": "code",
   "execution_count": null,
   "metadata": {},
   "outputs": [],
   "source": []
  }
 ],
 "metadata": {
  "kernelspec": {
   "display_name": "Python 3",
   "language": "python",
   "name": "python3"
  },
  "language_info": {
   "codemirror_mode": {
    "name": "ipython",
    "version": 3
   },
   "file_extension": ".py",
   "mimetype": "text/x-python",
   "name": "python",
   "nbconvert_exporter": "python",
   "pygments_lexer": "ipython3",
   "version": "3.7.3"
  }
 },
 "nbformat": 4,
 "nbformat_minor": 2
}
