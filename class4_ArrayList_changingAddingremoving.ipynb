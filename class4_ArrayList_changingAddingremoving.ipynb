{
 "cells": [
  {
   "cell_type": "code",
   "execution_count": 26,
   "metadata": {},
   "outputs": [
    {
     "name": "stdout",
     "output_type": "stream",
     "text": [
      "['pawan', 'sandeep', 'manoj', 'deep', 'goutham']\n",
      "manoj\n",
      "hello !!  pawan\n",
      "hello !! pawan\n"
     ]
    }
   ],
   "source": [
    "#How to access lsit\n",
    "#-------------------------\n",
    "\n",
    "mystudents = ['pawan','sandeep','manoj','deep','goutham']\n",
    "print(mystudents)\n",
    "\n",
    "print(mystudents[2])\n",
    "\n",
    "print(\"hello !! \",mystudents[0])\n",
    "\n",
    "print(f\"hello !! {mystudents[0]}\")\n",
    "\n"
   ]
  },
  {
   "cell_type": "code",
   "execution_count": 11,
   "metadata": {},
   "outputs": [
    {
     "name": "stdout",
     "output_type": "stream",
     "text": [
      "Goutham\n"
     ]
    }
   ],
   "source": [
    "print(mystudents[4].title())"
   ]
  },
  {
   "cell_type": "code",
   "execution_count": 14,
   "metadata": {},
   "outputs": [
    {
     "name": "stdout",
     "output_type": "stream",
     "text": [
      "['pawan', 'sandeep', 'manoj', 'deep', 'priya']\n"
     ]
    }
   ],
   "source": [
    "#changing elements in list\n",
    "#------------------------------\n",
    "\n",
    "mystudents[4]='priya'\n",
    "print(mystudents)\n"
   ]
  },
  {
   "cell_type": "code",
   "execution_count": 15,
   "metadata": {},
   "outputs": [
    {
     "name": "stdout",
     "output_type": "stream",
     "text": [
      "['pawan', 'sandeep', 'manoj', 'deep', 'priya', 'yoyo']\n"
     ]
    }
   ],
   "source": [
    "#Adding elements in the list\n",
    "#-----------------------------\n",
    "\n",
    "mystudents.append('yoyo')\n",
    "print(mystudents)"
   ]
  },
  {
   "cell_type": "code",
   "execution_count": 16,
   "metadata": {},
   "outputs": [
    {
     "name": "stdout",
     "output_type": "stream",
     "text": [
      "['pawan', 'sandeep', 'xoxo', 'manoj', 'deep', 'priya', 'yoyo']\n"
     ]
    }
   ],
   "source": [
    "mystudents.insert(2,'xoxo')\n",
    "print(mystudents)"
   ]
  },
  {
   "cell_type": "code",
   "execution_count": 17,
   "metadata": {},
   "outputs": [
    {
     "name": "stdout",
     "output_type": "stream",
     "text": [
      "['pawan', 'sandeep', 'manoj', 'deep', 'priya', 'yoyo']\n"
     ]
    }
   ],
   "source": [
    "#removing elements from list\n",
    "#---------------------------------\n",
    "del mystudents[2]\n",
    "print(mystudents)"
   ]
  },
  {
   "cell_type": "code",
   "execution_count": 18,
   "metadata": {},
   "outputs": [
    {
     "name": "stdout",
     "output_type": "stream",
     "text": [
      "['pawan', 'sandeep', 'manoj', 'deep', 'priya']\n"
     ]
    }
   ],
   "source": [
    "mystudents.pop()\n",
    "print(mystudents)"
   ]
  },
  {
   "cell_type": "code",
   "execution_count": 19,
   "metadata": {},
   "outputs": [
    {
     "name": "stdout",
     "output_type": "stream",
     "text": [
      "['pawan', 'sandeep', 'deep', 'priya']\n"
     ]
    }
   ],
   "source": [
    "mystudents.pop(2)\n",
    "print(mystudents)"
   ]
  },
  {
   "cell_type": "code",
   "execution_count": 33,
   "metadata": {},
   "outputs": [],
   "source": [
    "del mystudents\n",
    "\n"
   ]
  },
  {
   "cell_type": "code",
   "execution_count": null,
   "metadata": {},
   "outputs": [],
   "source": []
  }
 ],
 "metadata": {
  "kernelspec": {
   "display_name": "Python 3",
   "language": "python",
   "name": "python3"
  },
  "language_info": {
   "codemirror_mode": {
    "name": "ipython",
    "version": 3
   },
   "file_extension": ".py",
   "mimetype": "text/x-python",
   "name": "python",
   "nbconvert_exporter": "python",
   "pygments_lexer": "ipython3",
   "version": "3.7.3"
  }
 },
 "nbformat": 4,
 "nbformat_minor": 2
}
