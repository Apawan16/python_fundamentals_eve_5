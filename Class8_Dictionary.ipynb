{
 "cells": [
  {
   "cell_type": "code",
   "execution_count": 5,
   "metadata": {},
   "outputs": [
    {
     "name": "stdout",
     "output_type": "stream",
     "text": [
      "{'colour': 'green', 'point': 10}\n"
     ]
    }
   ],
   "source": [
    "# Dictionary\n",
    "#---------------------------\n",
    "\n",
    "alien_0 = {'colour' : 'green', 'point' : 10}\n",
    "print(alien_0)"
   ]
  },
  {
   "cell_type": "code",
   "execution_count": 6,
   "metadata": {},
   "outputs": [
    {
     "name": "stdout",
     "output_type": "stream",
     "text": [
      "10\n"
     ]
    }
   ],
   "source": [
    "print(alien_0['point'])"
   ]
  },
  {
   "cell_type": "code",
   "execution_count": 7,
   "metadata": {},
   "outputs": [
    {
     "data": {
      "text/plain": [
       "dict"
      ]
     },
     "execution_count": 7,
     "metadata": {},
     "output_type": "execute_result"
    }
   ],
   "source": [
    "type(alien_0)"
   ]
  },
  {
   "cell_type": "code",
   "execution_count": 9,
   "metadata": {},
   "outputs": [
    {
     "name": "stdout",
     "output_type": "stream",
     "text": [
      "{'colour': 'green', 'point': 10, 'x_position': 0, 'y_position': 25}\n"
     ]
    }
   ],
   "source": [
    "# How to add new key_value pairs in a dict\n",
    "#-------------------------------------------\n",
    "\n",
    "alien_0['x_position'] = 0\n",
    "alien_0['y_position'] = 25\n",
    "\n",
    "print(alien_0)"
   ]
  },
  {
   "cell_type": "code",
   "execution_count": 10,
   "metadata": {},
   "outputs": [
    {
     "name": "stdout",
     "output_type": "stream",
     "text": [
      "{'colour': 'yellow', 'point': 10, 'x_position': 0, 'y_position': 25}\n"
     ]
    }
   ],
   "source": [
    "# How to change/modify key value in a dict\n",
    "#-----------------------------------------\n",
    "\n",
    "alien_0['colour'] = 'yellow'\n",
    "print(alien_0)\n"
   ]
  },
  {
   "cell_type": "code",
   "execution_count": 11,
   "metadata": {},
   "outputs": [
    {
     "name": "stdout",
     "output_type": "stream",
     "text": [
      "{'colour': 'yellow', 'point': 10, 'y_position': 25}\n"
     ]
    }
   ],
   "source": [
    "#How to remove key value from dict\n",
    "#-----------------------------------\n",
    "\n",
    "del alien_0['x_position']\n",
    "print(alien_0)"
   ]
  },
  {
   "cell_type": "code",
   "execution_count": 13,
   "metadata": {},
   "outputs": [
    {
     "name": "stdout",
     "output_type": "stream",
     "text": [
      "{'bunty': 'python', 'deepti': 'java', 'Sandeep': 'testing'}\n"
     ]
    }
   ],
   "source": [
    "# multi line Dict decleration\n",
    "#--------------------------------\n",
    "\n",
    "fav_languages = {'bunty': 'python',\n",
    "                'deepti' : 'java',\n",
    "                 'Sandeep': 'testing',}\n",
    "print(fav_languages)"
   ]
  },
  {
   "cell_type": "code",
   "execution_count": 14,
   "metadata": {},
   "outputs": [
    {
     "name": "stdout",
     "output_type": "stream",
     "text": [
      "python\n"
     ]
    }
   ],
   "source": [
    "print(fav_languages['bunty'])"
   ]
  },
  {
   "cell_type": "code",
   "execution_count": 15,
   "metadata": {},
   "outputs": [
    {
     "name": "stdout",
     "output_type": "stream",
     "text": [
      "java\n"
     ]
    }
   ],
   "source": [
    "print(fav_languages['deepti'])"
   ]
  },
  {
   "cell_type": "code",
   "execution_count": 19,
   "metadata": {},
   "outputs": [
    {
     "name": "stdout",
     "output_type": "stream",
     "text": [
      "No Value decalred\n"
     ]
    }
   ],
   "source": [
    "# Check value exist or not in Dictionary\n",
    "#----------------------------------------\n",
    "value_exist = fav_languages.get('dipti','No Value decalred')\n",
    "print(value_exist)"
   ]
  },
  {
   "cell_type": "code",
   "execution_count": 22,
   "metadata": {},
   "outputs": [
    {
     "name": "stdout",
     "output_type": "stream",
     "text": [
      "bunty\n",
      "python\n",
      "-------\n",
      "deepti\n",
      "java\n",
      "-------\n",
      "Sandeep\n",
      "testing\n",
      "-------\n"
     ]
    }
   ],
   "source": [
    "#Looping through dictionary\n",
    "#--------------------------\n",
    "\n",
    "for i,k in fav_languages.items():\n",
    "    print(i)\n",
    "    print(k)\n",
    "    print(\"-------\")"
   ]
  },
  {
   "cell_type": "code",
   "execution_count": null,
   "metadata": {},
   "outputs": [],
   "source": []
  }
 ],
 "metadata": {
  "kernelspec": {
   "display_name": "Python 3",
   "language": "python",
   "name": "python3"
  },
  "language_info": {
   "codemirror_mode": {
    "name": "ipython",
    "version": 3
   },
   "file_extension": ".py",
   "mimetype": "text/x-python",
   "name": "python",
   "nbconvert_exporter": "python",
   "pygments_lexer": "ipython3",
   "version": "3.7.3"
  }
 },
 "nbformat": 4,
 "nbformat_minor": 2
}
