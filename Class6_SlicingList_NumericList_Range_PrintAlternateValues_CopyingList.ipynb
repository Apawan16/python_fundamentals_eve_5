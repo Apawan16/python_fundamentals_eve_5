{
 "cells": [
  {
   "cell_type": "code",
   "execution_count": 1,
   "metadata": {},
   "outputs": [
    {
     "name": "stdout",
     "output_type": "stream",
     "text": [
      "['pawan', 'sagar', 'jyoti', 'sandy', 'Manoj']\n"
     ]
    }
   ],
   "source": [
    "# Slicing of the list\n",
    "\n",
    "mystudent =['pawan','sagar','jyoti','sandy','Manoj']\n",
    "print(mystudent)"
   ]
  },
  {
   "cell_type": "code",
   "execution_count": 2,
   "metadata": {},
   "outputs": [
    {
     "name": "stdout",
     "output_type": "stream",
     "text": [
      "['pawan', 'sagar', 'jyoti']\n"
     ]
    }
   ],
   "source": [
    "print(mystudent[0:3])\n",
    "\n",
    "# Note: Remember index 3 value be ignored in the range"
   ]
  },
  {
   "cell_type": "code",
   "execution_count": 3,
   "metadata": {},
   "outputs": [
    {
     "name": "stdout",
     "output_type": "stream",
     "text": [
      "['jyoti', 'sandy', 'Manoj']\n"
     ]
    }
   ],
   "source": [
    "print(mystudent[2:7])"
   ]
  },
  {
   "cell_type": "code",
   "execution_count": 5,
   "metadata": {},
   "outputs": [
    {
     "name": "stdout",
     "output_type": "stream",
     "text": [
      "['jyoti', 'sandy', 'Manoj']\n"
     ]
    }
   ],
   "source": [
    "print(mystudent[2:5])"
   ]
  },
  {
   "cell_type": "code",
   "execution_count": 6,
   "metadata": {},
   "outputs": [
    {
     "name": "stdout",
     "output_type": "stream",
     "text": [
      "['pawan', 'sagar', 'jyoti']\n"
     ]
    }
   ],
   "source": [
    "print(mystudent[:3])\n",
    "\n",
    "#Note: only end position declared"
   ]
  },
  {
   "cell_type": "code",
   "execution_count": 7,
   "metadata": {},
   "outputs": [
    {
     "name": "stdout",
     "output_type": "stream",
     "text": [
      "['sandy', 'Manoj']\n"
     ]
    }
   ],
   "source": [
    "print(mystudent[3:])\n",
    "\n",
    "#Note: Only Start position declared"
   ]
  },
  {
   "cell_type": "code",
   "execution_count": 11,
   "metadata": {},
   "outputs": [
    {
     "name": "stdout",
     "output_type": "stream",
     "text": [
      "0\n",
      "1\n",
      "2\n",
      "3\n",
      "4\n"
     ]
    }
   ],
   "source": [
    "for val in range (5):\n",
    "    print(val)"
   ]
  },
  {
   "cell_type": "code",
   "execution_count": 12,
   "metadata": {},
   "outputs": [
    {
     "name": "stdout",
     "output_type": "stream",
     "text": [
      "1\n",
      "2\n",
      "3\n",
      "4\n"
     ]
    }
   ],
   "source": [
    "for val in range(1,5):\n",
    "    print(val)"
   ]
  },
  {
   "cell_type": "code",
   "execution_count": 15,
   "metadata": {},
   "outputs": [
    {
     "name": "stdout",
     "output_type": "stream",
     "text": [
      "0\n"
     ]
    }
   ],
   "source": [
    "for val in range(1,):\n",
    "    print(val)"
   ]
  },
  {
   "cell_type": "code",
   "execution_count": 23,
   "metadata": {},
   "outputs": [
    {
     "name": "stdout",
     "output_type": "stream",
     "text": [
      "[0, 1, 2, 3, 4]\n",
      "range(0, 5)\n",
      "3\n",
      "3\n",
      "range(0, 5)\n"
     ]
    }
   ],
   "source": [
    "# list is used to convert range as list\n",
    "print(list(range(5)))\n",
    "print(range(5))\n",
    "\n",
    "nmbr = list(range(5))\n",
    "print (nmbr[3])\n",
    "\n",
    "nbr = range(5)\n",
    "print(nbr[3])\n",
    "print(nbr)"
   ]
  },
  {
   "cell_type": "code",
   "execution_count": 18,
   "metadata": {},
   "outputs": [
    {
     "name": "stdout",
     "output_type": "stream",
     "text": [
      "0\n",
      "1\n",
      "2\n",
      "3\n",
      "4\n"
     ]
    }
   ],
   "source": [
    "for val in list(range(5)):\n",
    "    print(val)"
   ]
  },
  {
   "cell_type": "code",
   "execution_count": 30,
   "metadata": {},
   "outputs": [
    {
     "name": "stdout",
     "output_type": "stream",
     "text": [
      "0\n",
      "2\n",
      "4\n",
      "6\n",
      "8\n",
      "-------------\n",
      "0\n",
      "2\n",
      "4\n",
      "6\n",
      "8\n"
     ]
    }
   ],
   "source": [
    "# how to print even numbers\n",
    "\n",
    "for i in range(0,10,2):\n",
    "    print(i)\n",
    "    \n",
    "print(\"-------------\")\n",
    "for k in list(range(0,10,2)):\n",
    "    print(k)"
   ]
  },
  {
   "cell_type": "code",
   "execution_count": 32,
   "metadata": {},
   "outputs": [
    {
     "name": "stdout",
     "output_type": "stream",
     "text": [
      "['pawan', 'sagar', 'jyoti', 'sandy', 'Manoj']\n"
     ]
    }
   ],
   "source": [
    "# slicing list alternatively\n",
    "print(mystudent)"
   ]
  },
  {
   "cell_type": "code",
   "execution_count": 33,
   "metadata": {},
   "outputs": [
    {
     "name": "stdout",
     "output_type": "stream",
     "text": [
      "['pawan', 'jyoti', 'Manoj']\n"
     ]
    }
   ],
   "source": [
    "print(mystudent[::2])"
   ]
  },
  {
   "cell_type": "code",
   "execution_count": 34,
   "metadata": {},
   "outputs": [
    {
     "name": "stdout",
     "output_type": "stream",
     "text": [
      "['sagar', 'sandy']\n"
     ]
    }
   ],
   "source": [
    "print(mystudent[1::2])"
   ]
  },
  {
   "cell_type": "code",
   "execution_count": 36,
   "metadata": {},
   "outputs": [
    {
     "name": "stdout",
     "output_type": "stream",
     "text": [
      "['pawan', 'sagar', 'jyoti', 'sandy', 'Manoj']\n",
      "----------------\n",
      "['pawan', 'sagar', 'jyoti', 'sandy', 'Manoj']\n"
     ]
    }
   ],
   "source": [
    "# Copying list to other variable\n",
    "\n",
    "dup_student = mystudent\n",
    "print(dup_student)\n",
    "print(\"----------------\")\n",
    "duplicate_student = dup_student[:]\n",
    "print(duplicate_student)"
   ]
  },
  {
   "cell_type": "code",
   "execution_count": null,
   "metadata": {},
   "outputs": [],
   "source": []
  }
 ],
 "metadata": {
  "kernelspec": {
   "display_name": "Python 3",
   "language": "python",
   "name": "python3"
  },
  "language_info": {
   "codemirror_mode": {
    "name": "ipython",
    "version": 3
   },
   "file_extension": ".py",
   "mimetype": "text/x-python",
   "name": "python",
   "nbconvert_exporter": "python",
   "pygments_lexer": "ipython3",
   "version": "3.7.3"
  }
 },
 "nbformat": 4,
 "nbformat_minor": 2
}
